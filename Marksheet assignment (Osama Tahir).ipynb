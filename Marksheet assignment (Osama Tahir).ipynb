{
 "cells": [
  {
   "cell_type": "code",
   "execution_count": 9,
   "metadata": {},
   "outputs": [
    {
     "name": "stdout",
     "output_type": "stream",
     "text": [
      "Enter Your Marks Out Of 100 For Each Subject below\n",
      "Enter marks in Urdu : 90\n",
      "Enter marks in Math : 90\n",
      "Enter marks in Physics : 90\n",
      "Enter The marks Of Chemistry : 90\n",
      "Enter marks in English: 90\n",
      "Your Grade is: A\n",
      "Your Percentage is 90.0\n",
      "Total markso obtained: 450\n"
     ]
    }
   ],
   "source": [
    "print('Enter Your Marks Out Of 100 For Each Subject below')\n",
    "sub1=int(input(\"Enter marks in Urdu : \"))\n",
    "sub2=int(input(\"Enter marks in Math : \"))\n",
    "sub3=int(input(\"Enter marks in Physics : \"))\n",
    "sub4=int(input(\"Enter The marks Of Chemistry : \"))\n",
    "sub5=int(input(\"Enter marks in English: \"))\n",
    "total=(sub1+sub2+sub3+sub4+sub5)\n",
    "per=(total/500)*100\n",
    "\n",
    "if(per>=90):\n",
    "    print(\"Your Grade is: A\")\n",
    "    print(f\"Your Percentage is {per}\")\n",
    "    print(f\"Total markso obtained: {total}\")\n",
    "elif(per >=80 and per < 90):\n",
    "    print(\"Your Grade is : B\")\n",
    "    print(f\"Your Percentage is {per}\")\n",
    "    print(f\"Total markso obtained: {total}\")\n",
    "elif(per >=70 and per < 80):\n",
    "    print(\"Your Grade is : C\")\n",
    "    print(f\"Your Percentage is {per}\")\n",
    "    print(f\"Total markso obtained: {total}\")\n",
    "elif(per >= 60 and per < 70):\n",
    "    print(\"Your Grade is : D\")\n",
    "    print(f\"Your Percentage is {per}\")\n",
    "    print(f\"Total markso obtained: {total}\")\n",
    "else:\n",
    "    print(\"Your Grade is Grade: F\")\n",
    "    print(f\"Your Percentage is {per}\")\n",
    "    print(f\"Total markso obtained: {total}\")\n",
    "    "
   ]
  },
  {
   "cell_type": "code",
   "execution_count": null,
   "metadata": {},
   "outputs": [],
   "source": []
  }
 ],
 "metadata": {
  "kernelspec": {
   "display_name": "Python 3",
   "language": "python",
   "name": "python3"
  },
  "language_info": {
   "codemirror_mode": {
    "name": "ipython",
    "version": 3
   },
   "file_extension": ".py",
   "mimetype": "text/x-python",
   "name": "python",
   "nbconvert_exporter": "python",
   "pygments_lexer": "ipython3",
   "version": "3.7.3"
  }
 },
 "nbformat": 4,
 "nbformat_minor": 2
}
